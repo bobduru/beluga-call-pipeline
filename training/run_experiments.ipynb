{
 "cells": [
  {
   "cell_type": "code",
   "execution_count": 1,
   "metadata": {},
   "outputs": [
    {
     "name": "stdout",
     "output_type": "stream",
     "text": [
      "/Users/emmanuel/Documents/belugas/beluga-call-pipeline\n"
     ]
    }
   ],
   "source": [
    "from dotenv import load_dotenv\n",
    "from pathlib import Path\n",
    "import sys\n",
    "import os\n",
    "\n",
    "# Walk up until we find the project root (folder with the .env)\n",
    "current_path = Path().resolve()\n",
    "for parent in [current_path] + list(current_path.parents):\n",
    "    if (parent / \".env\").exists():\n",
    "        load_dotenv(parent / \".env\")\n",
    "        project_root = os.getenv(\"PROJECT_ROOT\")\n",
    "        print(project_root)\n",
    "        sys.path.append(project_root)     \n",
    "        break\n",
    "\n",
    "\n",
    "%load_ext autoreload\n",
    "%autoreload 2"
   ]
  },
  {
   "cell_type": "code",
   "execution_count": 2,
   "metadata": {},
   "outputs": [],
   "source": [
    "import pandas as pd\n",
    "\n",
    "import torch\n",
    "from models.resnet import ResnetMultilabel\n",
    "from models.mobilenet import MobileNetMultilabel\n",
    "from models.quant_mobilenet import load_mobilenet_v3_quant\n",
    "\n",
    "from training.cross_validation import run_cross_val, train_model\n"
   ]
  },
  {
   "cell_type": "markdown",
   "metadata": {},
   "source": [
    "## Running the Optimization Experiments\n",
    "\n",
    "This section covers the model optimization experiments:\n",
    "- Switching from **ResNet18** to **MobileNet V3 Small**,\n",
    "- Further **Truncating** the MobileNet architecture,\n",
    "- Applying **8-bit Quantization-Aware Training (QAT)** on the MobileNet model.\n",
    "\n",
    "Each experiment is executed with **cross-validation** as described in the paper.  \n",
    "Results are written to a dedicated `results/` directory and subsequently examined in the `results_analysis` folder.\n",
    "\n"
   ]
  },
  {
   "cell_type": "code",
   "execution_count": 3,
   "metadata": {},
   "outputs": [],
   "source": [
    "labels_df = pd.read_csv(\"../data/labels/Overlaps_1s.csv\")\n",
    "labels_df[\"ClipFilenamePt\"] = labels_df[\"ClipFilename\"] + \".pt\"\n",
    "\n",
    "\n",
    "label_columns = [\"ECHO\", \"HFPC\", \"CC\", \"Whistle\"]\n",
    "\n",
    "data_dir = \"../data\"\n",
    "processed_spects_dir = data_dir + \"/Full_Dataset/Overlaps_1s_hp_1024_resize/\"\n",
    "\n",
    "results_dir = \"./results/model_optimization\""
   ]
  },
  {
   "cell_type": "code",
   "execution_count": 4,
   "metadata": {},
   "outputs": [],
   "source": [
    "training_config_default = {\n",
    "    \"batch_size\": 32,\n",
    "    \"lr_decay_factor\": 0.5,\n",
    "    \"patience_lr\": 2,\n",
    "    \"n_epochs\": 2, #100\n",
    "    \"min_epochs\": 1, #15\n",
    "    \"patience_early_stopping\": 5,\n",
    "    \"metric_mode\": \"max\",\n",
    "    \"val_metric\": \"f1\",\n",
    "}"
   ]
  },
  {
   "cell_type": "markdown",
   "metadata": {},
   "source": [
    "### Resnet18\n"
   ]
  },
  {
   "cell_type": "code",
   "execution_count": null,
   "metadata": {},
   "outputs": [],
   "source": [
    "run_cross_val(\n",
    "    labels_df, \n",
    "    label_columns, \n",
    "    ResnetMultilabel,  \n",
    "    processed_spects_dir,\n",
    "    run_name=\"resnet\",\n",
    "    model_kwargs={\n",
    "        \"pretrained\":True,\n",
    "    }, \n",
    "    training_config=training_config_default,\n",
    "    save_models=True,\n",
    "    use_quantization=False,\n",
    ")"
   ]
  },
  {
   "cell_type": "markdown",
   "metadata": {},
   "source": [
    "#### Running all MobileNet variants: layer depth & quantization "
   ]
  },
  {
   "cell_type": "code",
   "execution_count": null,
   "metadata": {},
   "outputs": [],
   "source": [
    "\n",
    "n_layers_to_test = [2, 4, 6, 8, 10, 12,]  \n",
    "quantization_options = [False, True]\n",
    "\n",
    "for n_layers in n_layers_to_test:\n",
    "    for use_quantization in quantization_options:\n",
    "        # Create run name based on parameters\n",
    "        quant_suffix = \"_qat\" if use_quantization else \"\"\n",
    "        run_name = f\"mobile_net{quant_suffix}_{n_layers}_layers\"\n",
    "        \n",
    "        print(f\"\\n{'='*80}\")\n",
    "        print(f\"Running experiment: {run_name}\")\n",
    "        print(f\"n_layers: {n_layers}, quantization: {use_quantization}\")\n",
    "        print(f\"{'='*80}\")\n",
    "\n",
    "        model_class = load_mobilenet_v3_quant if use_quantization else MobileNetMultilabel\n",
    "\n",
    "        model_kwargs = {\n",
    "            \"pretrained\": True,\n",
    "            \"n_layers\": n_layers\n",
    "        }\n",
    "\n",
    "        if use_quantization:\n",
    "            model_kwargs[\"qat\"] = True\n",
    "        \n",
    "        try:\n",
    "            run_cross_val(\n",
    "                labels_df, \n",
    "                label_columns, \n",
    "                model_class,  \n",
    "                processed_spects_dir,\n",
    "                run_name=run_name,\n",
    "                model_kwargs=model_kwargs, \n",
    "                n_splits=5,\n",
    "                training_config=training_config_default,\n",
    "                save_models=True,\n",
    "                use_quantization=use_quantization,\n",
    "            )\n",
    "            print(f\"✅ Successfully completed: {run_name}\")\n",
    "            \n",
    "        except Exception as e:\n",
    "            print(f\"❌ Error in experiment {run_name}: {str(e)}\")\n",
    "            print(f\"Continuing with next experiment...\")\n",
    "            continue\n",
    "\n",
    "print(f\"\\n{'='*80}\")\n",
    "print(\"All experiments completed!\")\n",
    "print(f\"{'='*80}\")"
   ]
  },
  {
   "cell_type": "markdown",
   "metadata": {},
   "source": [
    "<h4>Function call template to run quick experiments<h4>\n"
   ]
  },
  {
   "cell_type": "code",
   "execution_count": null,
   "metadata": {},
   "outputs": [],
   "source": [
    "run_cross_val(\n",
    "    labels_df, \n",
    "    label_columns, \n",
    "    MobileNetMultilabel,  \n",
    "    processed_spects_dir,\n",
    "    run_name=\"mobile_net_hp_1024_8_layers_all_absences\",\n",
    "    model_kwargs={\n",
    "        \"pretrained\":True,\n",
    "        \"n_layers\": 8\n",
    "    }, \n",
    "    n_splits=5,\n",
    "    training_config=training_config_default,\n",
    "    save_models=True,\n",
    "    use_quantization=False,\n",
    ")"
   ]
  },
  {
   "cell_type": "markdown",
   "metadata": {},
   "source": [
    "## Site Generalization Experiments\n",
    "\n",
    "\n",
    "1. **Site-specific models** — train a separate model per site.\n",
    "2. **Leave-One-Site-Out** — train on all but one site and test on the held-out site to assess generalizability.\n",
    "\n",
    "All runs follow the protocol described in the paper.\n"
   ]
  },
  {
   "cell_type": "code",
   "execution_count": 9,
   "metadata": {},
   "outputs": [],
   "source": [
    "from training.cross_validation import create_test_fold_indices\n",
    "from sklearn.model_selection import KFold, train_test_split\n",
    "from models.utils import aggregate_folds_testing_metrics\n",
    "\n",
    "\n",
    "\n",
    "labels_df = pd.read_csv(\"../data/labels/Overlaps_1s.csv\")\n",
    "labels_df[\"ClipFilenamePt\"] = labels_df[\"ClipFilename\"] + \".pt\"\n",
    "\n",
    "\n",
    "label_columns = [\"ECHO\", \"HFPC\", \"CC\", \"Whistle\"]\n",
    "\n",
    "data_dir = \"../data\"\n",
    "processed_spects_dir = data_dir + \"/Full_Dataset/Overlaps_1s_hp_1024_resize/\"\n",
    "\n",
    "\n",
    "labels_df = create_test_fold_indices(labels_df, 5)"
   ]
  },
  {
   "cell_type": "markdown",
   "metadata": {},
   "source": [
    "### Site-specific models"
   ]
  },
  {
   "cell_type": "code",
   "execution_count": null,
   "metadata": {},
   "outputs": [],
   "source": [
    "all_sites = [\"RDL\", \"CAC\", \"BSM\", \"KAM\" ]\n",
    "\n",
    "use_quantization = False\n",
    "\n",
    "for train_site in all_sites:\n",
    "\n",
    "    for fold_idx in range(5):\n",
    "        \n",
    "        model_class = load_mobilenet_v3_quant if use_quantization else MobileNetMultilabel\n",
    "\n",
    "        model = model_class(\n",
    "            pretrained=True,\n",
    "            n_layers=8,\n",
    "            num_classes=len(label_columns)\n",
    "        )\n",
    "\n",
    "        train_site_df = labels_df[labels_df[\"Site\"]==train_site]\n",
    "        train_data = train_site_df[train_site_df[\"test_fold_idx\"] != fold_idx]\n",
    "        train_data, val_data = train_test_split(train_data, test_size=0.2, random_state=42, stratify=train_data['Site'])\n",
    "        \n",
    "        test_data = train_site_df[train_site_df[\"test_fold_idx\"] == fold_idx]\n",
    "\n",
    "        run_name = f\"{train_site}_only\"\n",
    "        if use_quantization:\n",
    "            run_name = run_name + \"_qat\"\n",
    "\n",
    "\n",
    "        run_dir, _, _ = train_model(\n",
    "            labels_df,\n",
    "            label_columns,\n",
    "            model,\n",
    "            train_data,\n",
    "            val_data,\n",
    "            test_data,\n",
    "            processed_spects_dir=processed_spects_dir,\n",
    "            fold_idx=fold_idx,\n",
    "            results_dir=\"./results/sites_generalization\",\n",
    "            run_name=run_name,\n",
    "            training_config=training_config_default,\n",
    "            use_quantization=use_quantization,\n",
    "            compute_sites_metrics=True\n",
    "        )\n",
    "\n",
    "    aggregate_folds_testing_metrics(run_dir)"
   ]
  },
  {
   "cell_type": "markdown",
   "metadata": {},
   "source": [
    "### Leave One Site out"
   ]
  },
  {
   "cell_type": "code",
   "execution_count": null,
   "metadata": {},
   "outputs": [],
   "source": [
    "\n",
    "\n",
    "all_sites = [\"BSM\", \"RDL\", \"CAC\", \"KAM\" ]\n",
    "\n",
    "use_quantization = False\n",
    "\n",
    "for out_site in all_sites:\n",
    "    for fold_idx in range(5):\n",
    "        \n",
    "        model_class = load_mobilenet_v3_quant if use_quantization else MobileNetMultilabel\n",
    "\n",
    "        model = model_class(\n",
    "            pretrained=True,\n",
    "            n_layers=8,\n",
    "            num_classes=len(label_columns)\n",
    "        )\n",
    "\n",
    "        train_sites = [site for site in all_sites if site != out_site]\n",
    "\n",
    "        train_df = labels_df[labels_df[\"test_fold_idx\"] != fold_idx]\n",
    "        \n",
    "        train_sites_df = train_df[train_df[\"Site\"].isin(train_sites)]\n",
    "\n",
    "        train_data, val_data = train_test_split(train_sites_df, test_size=0.2, random_state=42, stratify=train_sites_df['Site'])\n",
    "        \n",
    "        test_data = labels_df[labels_df[\"test_fold_idx\"] == fold_idx]\n",
    "\n",
    "\n",
    "        run_name = f\"leave_{out_site}_out\"\n",
    "        if use_quantization:\n",
    "            run_name = run_name + \"_qat\"\n",
    "\n",
    "        print(run_name)\n",
    "        print(f\"Site out : {out_site}\")\n",
    "        print(\"Train df\")\n",
    "        print(train_data[\"Site\"].value_counts())\n",
    "        print(\"\\nVal df\")\n",
    "        print(val_data[\"Site\"].value_counts())\n",
    "\n",
    "        # break\n",
    "        run_dir, _, _ = train_model(\n",
    "            labels_df,\n",
    "            label_columns,\n",
    "            model,\n",
    "            train_data,\n",
    "            val_data,\n",
    "            test_data,\n",
    "            processed_spects_dir=processed_spects_dir,\n",
    "            fold_idx=fold_idx,\n",
    "            run_name=run_name,\n",
    "            results_dir=\"./results/sites_generalization\",\n",
    "            training_config=training_config_default,\n",
    "            use_quantization=use_quantization,\n",
    "            \n",
    "        )\n",
    "    \n",
    "    aggregate_folds_testing_metrics(run_dir)\n",
    "\n",
    "    # break"
   ]
  },
  {
   "cell_type": "markdown",
   "metadata": {},
   "source": [
    "<h2>Training the final model on all the data</h2>"
   ]
  },
  {
   "cell_type": "code",
   "execution_count": null,
   "metadata": {},
   "outputs": [],
   "source": [
    "from training.cross_validation import create_test_fold_indices\n",
    "from sklearn.model_selection import KFold, train_test_split\n",
    "from models.utils import aggregate_folds_testing_metrics\n",
    "\n",
    "\n",
    "\n",
    "labels_df = pd.read_csv(\"../data/labels/Overlaps_1s.csv\")\n",
    "labels_df[\"ClipFilenamePt\"] = labels_df[\"ClipFilename\"] + \".pt\"\n",
    "\n",
    "\n",
    "label_columns = [\"ECHO\", \"HFPC\", \"CC\", \"Whistle\"]\n",
    "\n",
    "data_dir = \"../data\"\n",
    "processed_spects_dir = data_dir + \"/Full_Dataset/Overlaps_1s_hp_1024_resize/\"\n",
    "\n",
    "results_dir = \"./final_results\"\n",
    "\n",
    "labels_df = create_test_fold_indices(labels_df, 5)"
   ]
  },
  {
   "cell_type": "code",
   "execution_count": null,
   "metadata": {},
   "outputs": [],
   "source": [
    "\n",
    "use_quantization = True\n",
    "        \n",
    "model_class = load_mobilenet_v3_quant if use_quantization else MobileNetMultilabel\n",
    "\n",
    "model = model_class(\n",
    "    pretrained=True,\n",
    "    n_layers=8,\n",
    "    num_classes=len(label_columns)\n",
    ")\n",
    "\n",
    "train_data, val_data = train_test_split(train_data, test_size=0.2, random_state=42, stratify=train_data['Site'])\n",
    "test_data = val_data #Doesn't matter here, won't be used anyway\n",
    "\n",
    "run_name = f\"Final_model\"\n",
    "if use_quantization:\n",
    "    run_name = run_name + \"_qat\"\n",
    "\n",
    "run_dir = train_model(\n",
    "    labels_df,\n",
    "    label_columns,\n",
    "    model,\n",
    "    train_data,\n",
    "    val_data,\n",
    "    test_data,\n",
    "    fold_idx=0,\n",
    "    processed_spects_dir=processed_spects_dir,\n",
    "    run_name=run_name,\n",
    "    results_dir=\"results/final_model\",\n",
    "    training_config=training_config_default,\n",
    "    use_quantization=use_quantization,\n",
    "    save_model=True\n",
    ")"
   ]
  }
 ],
 "metadata": {
  "kernelspec": {
   "display_name": ".venv",
   "language": "python",
   "name": "python3"
  },
  "language_info": {
   "codemirror_mode": {
    "name": "ipython",
    "version": 3
   },
   "file_extension": ".py",
   "mimetype": "text/x-python",
   "name": "python",
   "nbconvert_exporter": "python",
   "pygments_lexer": "ipython3",
   "version": "3.12.8"
  }
 },
 "nbformat": 4,
 "nbformat_minor": 2
}
