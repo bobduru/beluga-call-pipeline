{
 "cells": [
  {
   "cell_type": "code",
   "execution_count": null,
   "metadata": {},
   "outputs": [],
   "source": [
    "from dotenv import load_dotenv\n",
    "from pathlib import Path\n",
    "import sys\n",
    "import os\n",
    "\n",
    "# Walk up until we find the project root (folder with the .env)\n",
    "current_path = Path().resolve()\n",
    "for parent in [current_path] + list(current_path.parents):\n",
    "    if (parent / \".env\").exists():\n",
    "        load_dotenv(parent / \".env\")\n",
    "        project_root = os.getenv(\"PROJECT_ROOT\")\n",
    "        print(project_root)\n",
    "        sys.path.append(project_root)     \n",
    "        break\n",
    "\n",
    "\n",
    "%load_ext autoreload\n",
    "%autoreload 2"
   ]
  },
  {
   "cell_type": "code",
   "execution_count": null,
   "metadata": {},
   "outputs": [],
   "source": [
    "\n",
    "from helpers.utils import read_audio_file\n",
    "import matplotlib.pyplot as plt\n",
    "from IPython.display import display, clear_output\n",
    "import librosa\n",
    "from ROI.roi import SPECT_GENERATOR\n",
    "import pandas as pd\n",
    "\n",
    "from tqdm import tqdm\n",
    "import os\n"
   ]
  },
  {
   "cell_type": "code",
   "execution_count": null,
   "metadata": {},
   "outputs": [],
   "source": [
    "labels_df = pd.read_csv(\"../Call_Labels_All_Sites.csv\")"
   ]
  },
  {
   "cell_type": "code",
   "execution_count": null,
   "metadata": {},
   "outputs": [],
   "source": [
    "# Assuming your DataFrame is called df\n",
    "def extract_hydrophone_model(val):\n",
    "    if pd.isna(val):\n",
    "        return 0\n",
    "    return val.split('.')[0]\n",
    "\n",
    "labels_df['HydrophoneModel'] = labels_df['Begin File'].apply(extract_hydrophone_model)"
   ]
  },
  {
   "cell_type": "code",
   "execution_count": null,
   "metadata": {},
   "outputs": [],
   "source": [
    "labels_df.loc[labels_df[\"Site\"] == \"BSM\", \"HydrophoneModel\"] = \"201359382\""
   ]
  },
  {
   "cell_type": "code",
   "execution_count": null,
   "metadata": {},
   "outputs": [],
   "source": [
    "from preprocessing.spectrogram.spectrogram_generator import HYDROPHONE_SENSITIVITY\n",
    "\n",
    "\n",
    "def extract_hydrophone_sensitivity(val):\n",
    "    return HYDROPHONE_SENSITIVITY.get_sensitivity(val)\n",
    "\n",
    "labels_df['HydrophoneSensitivity'] = labels_df['HydrophoneModel'].apply(extract_hydrophone_sensitivity)"
   ]
  },
  {
   "cell_type": "code",
   "execution_count": null,
   "metadata": {},
   "outputs": [],
   "source": [
    "labels_df.to_csv(\"../Call_Labels_All_Sites.csv\")"
   ]
  }
 ],
 "metadata": {
  "kernelspec": {
   "display_name": ".venv",
   "language": "python",
   "name": "python3"
  },
  "language_info": {
   "name": "python",
   "version": "3.12.6"
  }
 },
 "nbformat": 4,
 "nbformat_minor": 2
}
